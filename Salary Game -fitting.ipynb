{
 "cells": [
  {
   "cell_type": "code",
   "execution_count": 22,
   "metadata": {},
   "outputs": [
    {
     "name": "stdout",
     "output_type": "stream",
     "text": [
      "(array([   2.,   12.,   10.,   31.,   64.,  120.,  196.,  336.,  473.,\n",
      "        756., 1551., 1451., 1657., 1852., 1949., 1899., 1793., 1610.,\n",
      "       1280.,  994., 1014.,  405.,  263.,  120.,   77.,   45.,   22.,\n",
      "         11.,    4.,    3.]), array([-55. , -44.5, -34. , -23.5, -13. ,  -2.5,   8. ,  18.5,  29. ,\n",
      "        39.5,  50. ,  60.5,  71. ,  81.5,  92. , 102.5, 113. , 123.5,\n",
      "       134. , 144.5, 155. , 165.5, 176. , 186.5, 197. , 207.5, 218. ,\n",
      "       228.5, 239. , 249.5, 260. ]), <a list of 30 Patch objects>)\n",
      "[-49.75 -39.25 -28.75 -18.25  -7.75   2.75  13.25  23.75  34.25  44.75\n",
      "  55.25  65.75  76.25  86.75  97.25 107.75 118.25 128.75 139.25 149.75\n",
      " 160.25 170.75 181.25 191.75 202.25 212.75 223.25 233.75 244.25 254.75]\n",
      "[1986.00941387   42.75279089] [[ 2.30345187e+03 -3.30590304e+01]\n",
      " [-3.30590304e+01  1.42332599e+00]]\n"
     ]
    },
    {
     "data": {
      "image/png": "[encoded data removed]",
      "text/plain": [
       "<Figure size 432x288 with 1 Axes>"
      ]
     },
     "metadata": {
      "needs_background": "light"
     },
     "output_type": "display_data"
    }
   ],
   "source": [
    "import numpy as np\n",
    "import matplotlib.pyplot as plt\n",
    "\n",
    "\n",
    "n=20000\n",
    "m=100\n",
    "dm=5\n",
    "k=1000000\n",
    "\n",
    "'''\n",
    "n=int(input(\"n:\"))\n",
    "m=int(input(\"m:\"))\n",
    "dm=int(input(\"dm:\"))\n",
    "k=int(input(\"k:\"))\n",
    "'''\n",
    "\n",
    "s1=np.full(n,m)\n",
    "\n",
    "def pss1(s,dM) :\n",
    "    a=np.random.randint(0,len(s))\n",
    "    b=np.random.randint(0,len(s))\n",
    "    \n",
    "    a_h=np.random.randint(0,3)\n",
    "    b_h=np.random.randint(0,3)\n",
    "    \n",
    "    if (a_h==2 and b_h==1) or (a_h==1 and b_h==0) or (a_h==0 and b_h==2) :\n",
    "        s[a] += dM\n",
    "        s[b] -= dM\n",
    "        \n",
    "    elif (a_h==0 and b_h==1) or (a_h==1 and b_h==2) or (a_h==2 and b_h==0) :\n",
    "        s[a] -= dM\n",
    "        s[b] += dM\n",
    "        \n",
    "    else :\n",
    "        pass\n",
    "    \n",
    "    return s\n",
    "\n",
    "\n",
    "for x in range(k) :\n",
    "    s1 = pss1(s1,dm)\n",
    "\n",
    "'''\n",
    "plt.hist(s1,bins=20,label='liability')\n",
    "plt.legend(loc=\"best\")\n",
    "plt.show()\n",
    "'''\n",
    "\n",
    "pic=plt.hist(s1,bins=30,label='liability')\n",
    "print(pic)\n",
    "dx=(pic[1][1]-pic[1][0])\n",
    "bin_center=np.array(pic[1][0:-1])+dx/2.\n",
    "print(bin_center)\n",
    "\n",
    "from scipy import optimize\n",
    "\n",
    "def test_func(x,amp,sigma) :\n",
    "    return amp * np.exp(-(x-m)**2/(2*sigma**2))\n",
    "\n",
    "params, params_convariance = optimize.curve_fit(test_func, bin_center, pic[0])\n",
    "print(params, params_convariance)\n",
    "plt.plot(bin_center, test_func(bin_center, params[0],params[1]),\"r*\",label='fitted function')\n",
    "\n",
    "plt.xlabel(\"money\")\n",
    "plt.ylabel(\"number of student\")\n",
    "plt.legend(loc=\"best\")\n",
    "plt.show()"
   ]
  },
  {
   "cell_type": "code",
   "execution_count": 5,
   "metadata": {},
   "outputs": [
    {
     "name": "stdout",
     "output_type": "stream",
     "text": [
      "n:20000\n",
      "m:50\n",
      "dm:5\n",
      "k:1200000\n"
     ]
    },
    {
     "data": {
      "image/png": "[encoded data removed]",
      "text/plain": [
       "<Figure size 432x288 with 1 Axes>"
      ]
     },
     "metadata": {
      "needs_background": "light"
     },
     "output_type": "display_data"
    }
   ],
   "source": [
    "import numpy as np\n",
    "import matplotlib.pyplot as plt\n",
    "\n",
    "'''\n",
    "n=20000\n",
    "m=50\n",
    "dm=5\n",
    "k=500000\n",
    "'''\n",
    "\n",
    "n=int(input(\"n:\"))\n",
    "m=int(input(\"m:\"))\n",
    "dm=int(input(\"dm:\"))\n",
    "k=int(input(\"k:\"))\n",
    "\n",
    "s2=np.full(n,m)\n",
    "\n",
    "def pss2(s,dM) :\n",
    "    a=np.random.randint(0,len(s))\n",
    "    b=np.random.randint(0,len(s))\n",
    "    \n",
    "    if s[a]<=0 or s[b]<=0 :\n",
    "        pass\n",
    "    \n",
    "    else :\n",
    "        a_h=np.random.randint(0,3)\n",
    "        b_h=np.random.randint(0,3)\n",
    "        \n",
    "        if (a_h==2 and b_h==1) or (a_h==1 and b_h==0) or (a_h==0 and b_h==2) :\n",
    "            s[a] += dM\n",
    "            s[b] -= dM\n",
    "        \n",
    "        elif (a_h==0 and b_h==1) or (a_h==1 and b_h==2) or (a_h==2 and b_h==0) :\n",
    "            s[a] -= dM\n",
    "            s[b] += dM\n",
    "        \n",
    "        else :\n",
    "            pass\n",
    "    \n",
    "    return s\n",
    "\n",
    "for x in range(k) :\n",
    "    s2 = pss2(s2,dm)\n",
    "    \n",
    "plt.hist(s2,bins=20,label='no liability')\n",
    "plt.legend(loc=\"best\")\n",
    "plt.show()  "
   ]
  },
  {
   "cell_type": "code",
   "execution_count": null,
   "metadata": {},
   "outputs": [],
   "source": []
  }
 ],
 "metadata": {
  "kernelspec": {
   "display_name": "Python 3",
   "language": "python",
   "name": "python3"
  },
  "language_info": {
   "codemirror_mode": {
    "name": "ipython",
    "version": 3
   },
   "file_extension": ".py",
   "mimetype": "text/x-python",
   "name": "python",
   "nbconvert_exporter": "python",
   "pygments_lexer": "ipython3",
   "version": "3.7.1"
  }
 },
 "nbformat": 4,
 "nbformat_minor": 2
}

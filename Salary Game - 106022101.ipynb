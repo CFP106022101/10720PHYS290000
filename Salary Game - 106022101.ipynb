{
 "cells": [
  {
   "cell_type": "code",
   "execution_count": 4,
   "metadata": {},
   "outputs": [
    {
     "name": "stdout",
     "output_type": "stream",
     "text": [
      "n:20000\n",
      "m:50\n",
      "dm:5\n",
      "k:500000\n"
     ]
    },
    {
     "data": {
      "image/png": "[encoded data removed]",
      "text/plain": [
       "<Figure size 432x288 with 1 Axes>"
      ]
     },
     "metadata": {
      "needs_background": "light"
     },
     "output_type": "display_data"
    }
   ],
   "source": [
    "import numpy as np\n",
    "import matplotlib.pyplot as plt\n",
    "\n",
    "'''\n",
    "n=20000\n",
    "m=50\n",
    "dm=5\n",
    "k=500000\n",
    "'''\n",
    "\n",
    "n=int(input(\"n:\"))\n",
    "m=int(input(\"m:\"))\n",
    "dm=int(input(\"dm:\"))\n",
    "k=int(input(\"k:\"))\n",
    "\n",
    "s1=np.full(n,m)\n",
    "\n",
    "def pss1(s,dM) :\n",
    "    a=np.random.randint(0,len(s))\n",
    "    b=np.random.randint(0,len(s))\n",
    "    \n",
    "    a_h=np.random.randint(0,3)\n",
    "    b_h=np.random.randint(0,3)\n",
    "    \n",
    "    if (a_h==2 and b_h==1) or (a_h==1 and b_h==0) or (a_h==0 and b_h==2) :\n",
    "        s[a] += dM\n",
    "        s[b] -= dM\n",
    "        \n",
    "    elif (a_h==0 and b_h==1) or (a_h==1 and b_h==2) or (a_h==2 and b_h==0) :\n",
    "        s[a] -= dM\n",
    "        s[b] += dM\n",
    "        \n",
    "    else :\n",
    "        pass\n",
    "    \n",
    "    return s\n",
    "\n",
    "\n",
    "for x in range(k) :\n",
    "    s1 = pss1(s1,dm)\n",
    "\n",
    "plt.hist(s1,bins=20,label='liability')\n",
    "plt.legend(loc=\"best\")\n",
    "plt.show()    \n",
    "    "
   ]
  },
  {
   "cell_type": "code",
   "execution_count": 5,
   "metadata": {},
   "outputs": [
    {
     "name": "stdout",
     "output_type": "stream",
     "text": [
      "n:20000\n",
      "m:50\n",
      "dm:5\n",
      "k:500000\n"
     ]
    },
    {
     "data": {
      "image/png": "[encoded data removed]",
      "text/plain": [
       "<Figure size 432x288 with 1 Axes>"
      ]
     },
     "metadata": {
      "needs_background": "light"
     },
     "output_type": "display_data"
    }
   ],
   "source": [
    "import numpy as np\n",
    "import matplotlib.pyplot as plt\n",
    "\n",
    "'''\n",
    "n=20000\n",
    "m=50\n",
    "dm=5\n",
    "k=500000\n",
    "'''\n",
    "\n",
    "n=int(input(\"n:\"))\n",
    "m=int(input(\"m:\"))\n",
    "dm=int(input(\"dm:\"))\n",
    "k=int(input(\"k:\"))\n",
    "\n",
    "s2=np.full(n,m)\n",
    "\n",
    "def pss2(s,dM) :\n",
    "    a=np.random.randint(0,len(s))\n",
    "    b=np.random.randint(0,len(s))\n",
    "    \n",
    "    if s[a]<=0 or s[b]<=0 :\n",
    "        pass\n",
    "    \n",
    "    else :\n",
    "        a_h=np.random.randint(0,3)\n",
    "        b_h=np.random.randint(0,3)\n",
    "        \n",
    "        if (a_h==2 and b_h==1) or (a_h==1 and b_h==0) or (a_h==0 and b_h==2) :\n",
    "            s[a] += dM\n",
    "            s[b] -= dM\n",
    "        \n",
    "        elif (a_h==0 and b_h==1) or (a_h==1 and b_h==2) or (a_h==2 and b_h==0) :\n",
    "            s[a] -= dM\n",
    "            s[b] += dM\n",
    "        \n",
    "        else :\n",
    "            pass\n",
    "    \n",
    "    return s\n",
    "\n",
    "for x in range(k) :\n",
    "    s2 = pss2(s2,dm)\n",
    "    \n",
    "plt.hist(s2,bins=20,label='no liability')\n",
    "plt.legend(loc=\"best\")\n",
    "plt.show()  "
   ]
  },
  {
   "cell_type": "code",
   "execution_count": null,
   "metadata": {},
   "outputs": [],
   "source": []
  }
 ],
 "metadata": {
  "kernelspec": {
   "display_name": "Python 3",
   "language": "python",
   "name": "python3"
  },
  "language_info": {
   "codemirror_mode": {
    "name": "ipython",
    "version": 3
   },
   "file_extension": ".py",
   "mimetype": "text/x-python",
   "name": "python",
   "nbconvert_exporter": "python",
   "pygments_lexer": "ipython3",
   "version": "3.7.1"
  }
 },
 "nbformat": 4,
 "nbformat_minor": 2
}
